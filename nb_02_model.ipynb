{
 "cells": [
  {
   "cell_type": "code",
   "execution_count": 13,
   "id": "3a4efab3",
   "metadata": {},
   "outputs": [],
   "source": [
    "import pandas as pd\n",
    "import torch.nn as nn \n",
    "from transformers import AutoModel"
   ]
  },
  {
   "cell_type": "code",
   "execution_count": 5,
   "id": "3f515b2b",
   "metadata": {},
   "outputs": [],
   "source": [
    "from src.dataset import CommonLitDataset"
   ]
  },
  {
   "cell_type": "code",
   "execution_count": 6,
   "id": "1ae06b56",
   "metadata": {},
   "outputs": [
    {
     "data": {
      "text/plain": [
       "(7165, 9)"
      ]
     },
     "execution_count": 6,
     "metadata": {},
     "output_type": "execute_result"
    }
   ],
   "source": [
    "df = pd.read_csv('./data/train.csv')\n",
    "df.shape"
   ]
  },
  {
   "cell_type": "code",
   "execution_count": 7,
   "id": "715b1ba6",
   "metadata": {},
   "outputs": [
    {
     "data": {
      "text/plain": [
       "((6062, 9), (1103, 9))"
      ]
     },
     "execution_count": 7,
     "metadata": {},
     "output_type": "execute_result"
    }
   ],
   "source": [
    "train_df = df[df.prompt_id!='814d6b'].copy().reset_index(drop=True)\n",
    "val_df = df[df.prompt_id=='814d6b'].copy().reset_index(drop=True)\n",
    "train_df.shape, val_df.shape"
   ]
  },
  {
   "cell_type": "code",
   "execution_count": 8,
   "id": "c4f0b0ea",
   "metadata": {},
   "outputs": [],
   "source": [
    "train_dataset = CommonLitDataset(model='distilbert-base-uncased', df=train_df)\n",
    "val_dataset = CommonLitDataset(model='distilbert-base-uncased', df=val_df)"
   ]
  },
  {
   "cell_type": "code",
   "execution_count": 26,
   "id": "3d7b6df4",
   "metadata": {
    "scrolled": true
   },
   "outputs": [],
   "source": [
    "from transformers import AutoModel\n",
    "import torch.nn as nn\n",
    "\n",
    "\n",
    "class CommonLitModel(nn.Module):\n",
    "    \"CommonLitModel for CommonLit Readability Prize target prediction\"\n",
    "\n",
    "    def __init__(self, model_name, tok_len=30528) -> None:\n",
    "        super().__init__()\n",
    "        self.model = AutoModel.from_pretrained(model_name)\n",
    "        self.model.resize_token_embeddings(tok_len)\n",
    "        self.linear = nn.Linear(self.model.config.dim, 2)\n",
    "        self.relu = nn.ReLU()\n",
    "\n",
    "    def forward(self, input_ids, attention_mask, **kwargs):\n",
    "        output = self.model(input_ids=input_ids, attention_mask=attention_mask)\n",
    "        output = self.linear(self.relu(output.last_hidden_state[:, 0, :]))\n",
    "        return output\n"
   ]
  },
  {
   "cell_type": "code",
   "execution_count": 27,
   "id": "742e11b1",
   "metadata": {},
   "outputs": [
    {
     "name": "stderr",
     "output_type": "stream",
     "text": [
      "Some weights of the model checkpoint at distilbert-base-uncased were not used when initializing DistilBertModel: ['vocab_layer_norm.bias', 'vocab_layer_norm.weight', 'vocab_transform.weight', 'vocab_transform.bias', 'vocab_projector.bias']\n",
      "- This IS expected if you are initializing DistilBertModel from the checkpoint of a model trained on another task or with another architecture (e.g. initializing a BertForSequenceClassification model from a BertForPreTraining model).\n",
      "- This IS NOT expected if you are initializing DistilBertModel from the checkpoint of a model that you expect to be exactly identical (initializing a BertForSequenceClassification model from a BertForSequenceClassification model).\n"
     ]
    }
   ],
   "source": [
    "model = CommonLitModel('distilbert-base-uncased')"
   ]
  },
  {
   "cell_type": "code",
   "execution_count": 28,
   "id": "d99adbd7",
   "metadata": {},
   "outputs": [
    {
     "data": {
      "text/plain": [
       "tensor([[0.0751, 0.0198]], grad_fn=<AddmmBackward0>)"
      ]
     },
     "execution_count": 28,
     "metadata": {},
     "output_type": "execute_result"
    }
   ],
   "source": [
    "model(**train_dataset[0])"
   ]
  }
 ],
 "metadata": {
  "kernelspec": {
   "display_name": "Python 3 (ipykernel)",
   "language": "python",
   "name": "python3"
  },
  "language_info": {
   "codemirror_mode": {
    "name": "ipython",
    "version": 3
   },
   "file_extension": ".py",
   "mimetype": "text/x-python",
   "name": "python",
   "nbconvert_exporter": "python",
   "pygments_lexer": "ipython3",
   "version": "3.10.12"
  }
 },
 "nbformat": 4,
 "nbformat_minor": 5
}
