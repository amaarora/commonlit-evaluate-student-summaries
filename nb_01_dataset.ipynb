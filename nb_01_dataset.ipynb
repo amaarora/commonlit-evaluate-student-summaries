{
 "cells": [
  {
   "cell_type": "code",
   "execution_count": 1,
   "id": "aa6f3882",
   "metadata": {},
   "outputs": [
    {
     "name": "stderr",
     "output_type": "stream",
     "text": [
      "/home/ubuntu/mambaforge/envs/AI/lib/python3.10/site-packages/tqdm/auto.py:21: TqdmWarning: IProgress not found. Please update jupyter and ipywidgets. See https://ipywidgets.readthedocs.io/en/stable/user_install.html\n",
      "  from .autonotebook import tqdm as notebook_tqdm\n"
     ]
    }
   ],
   "source": [
    "import pandas as pd\n",
    "from torch.utils.data import Dataset\n",
    "from torch.utils.data import DataLoader\n",
    "from transformers import AutoTokenizer, AutoModel\n",
    "from typing import Any"
   ]
  },
  {
   "cell_type": "code",
   "execution_count": 2,
   "id": "de76401a",
   "metadata": {},
   "outputs": [],
   "source": [
    "class CommonLitDataset(Dataset):\n",
    "    \"Dataset for CommonLit Readability Prize, reading summary and text from csv file\"\n",
    "\n",
    "    def __init__(self, model, df) -> None:\n",
    "        super().__init__()\n",
    "        self.tok = AutoTokenizer.from_pretrained(model)\n",
    "        self.df = df\n",
    "\n",
    "    def __getitem__(self, idx) -> Any:\n",
    "        text = self.df.iloc[idx].excerpt\n",
    "        text = self.tok(\n",
    "            text, padding=\"max_length\", truncation=True, return_tensors=\"pt\"\n",
    "        )\n",
    "        return (\n",
    "            {\n",
    "                \"input_ids\": text.input_ids.squeeze(),\n",
    "                \"attention_mask\": text.attention_mask.squeeze(),\n",
    "                \"content\": self.df.iloc[idx].content,\n",
    "                \"wording\": self.df.iloc[idx].wording,\n",
    "            }\n",
    "            if \"content\" in self.df.columns\n",
    "            else {\n",
    "                \"input_ids\": text.input_ids.squeeze(),\n",
    "                \"attention_mask\": text.attention_mask.squeeze(),\n",
    "                \"content\": None,\n",
    "                \"wording\": None,\n",
    "            }\n",
    "        )"
   ]
  },
  {
   "cell_type": "code",
   "execution_count": 8,
   "id": "226c38d3",
   "metadata": {},
   "outputs": [
    {
     "data": {
      "text/plain": [
       "6"
      ]
     },
     "execution_count": 8,
     "metadata": {},
     "output_type": "execute_result"
    }
   ],
   "source": [
    "tok = AutoTokenizer.from_pretrained(\"distilbert-base-uncased\")\n",
    "tok.add_tokens([\n",
    "                \"<PROMPT>\",\n",
    "                \"<SUMMARY>\",\n",
    "                \"<PROMPT_TITLE>\",\n",
    "                \"</PROMPT>\",\n",
    "                \"</SUMMARY>\",\n",
    "                \"</PROMPT_TITLE>\",\n",
    "            ])"
   ]
  },
  {
   "cell_type": "code",
   "execution_count": 9,
   "id": "42af08f6",
   "metadata": {},
   "outputs": [
    {
     "data": {
      "text/plain": [
       "30528"
      ]
     },
     "execution_count": 9,
     "metadata": {},
     "output_type": "execute_result"
    }
   ],
   "source": [
    "len(tok)"
   ]
  },
  {
   "cell_type": "code",
   "execution_count": 4,
   "id": "77de9ffa",
   "metadata": {},
   "outputs": [
    {
     "data": {
      "text/plain": [
       "array(['814d6b', 'ebad26', '3b9047', '39c16e'], dtype=object)"
      ]
     },
     "execution_count": 4,
     "metadata": {},
     "output_type": "execute_result"
    }
   ],
   "source": [
    "df = pd.read_csv('./data/train.csv')\n",
    "df.prompt_id.unique()"
   ]
  },
  {
   "cell_type": "code",
   "execution_count": 5,
   "id": "3464b461",
   "metadata": {},
   "outputs": [
    {
     "data": {
      "text/plain": [
       "((6062, 9), (1103, 9))"
      ]
     },
     "execution_count": 5,
     "metadata": {},
     "output_type": "execute_result"
    }
   ],
   "source": [
    "train_df = df[df.prompt_id!='814d6b'].copy().reset_index(drop=True)\n",
    "val_df = df[df.prompt_id=='814d6b'].copy().reset_index(drop=True)\n",
    "train_df.shape, val_df.shape"
   ]
  },
  {
   "cell_type": "code",
   "execution_count": 6,
   "id": "780123cf",
   "metadata": {},
   "outputs": [
    {
     "name": "stderr",
     "output_type": "stream",
     "text": [
      "Downloading (…)okenizer_config.json: 100%|███████████████████████████████████████████████████████████████████████████████████████████| 28.0/28.0 [00:00<00:00, 170kB/s]\n",
      "Downloading (…)lve/main/config.json: 100%|████████████████████████████████████████████████████████████████████████████████████████████| 483/483 [00:00<00:00, 3.22MB/s]\n",
      "Downloading (…)solve/main/vocab.txt: 100%|███████████████████████████████████████████████████████████████████████████████████████████| 232k/232k [00:00<00:00, 586kB/s]\n",
      "Downloading (…)/main/tokenizer.json: 100%|███████████████████████████████████████████████████████████████████████████████████████████| 466k/466k [00:00<00:00, 787kB/s]\n"
     ]
    }
   ],
   "source": [
    "train_dataset = CommonLitDataset(model='distilbert-base-uncased', df=train_df)\n",
    "val_dataset = CommonLitDataset(model='distilbert-base-uncased', df=val_df)"
   ]
  },
  {
   "cell_type": "code",
   "execution_count": 13,
   "id": "3907db64",
   "metadata": {},
   "outputs": [
    {
     "data": {
      "text/plain": [
       "torch.Size([512])"
      ]
     },
     "execution_count": 13,
     "metadata": {},
     "output_type": "execute_result"
    }
   ],
   "source": [
    "train_dataset[1]['input_ids'].shape"
   ]
  }
 ],
 "metadata": {
  "kernelspec": {
   "display_name": "Python 3 (ipykernel)",
   "language": "python",
   "name": "python3"
  },
  "language_info": {
   "codemirror_mode": {
    "name": "ipython",
    "version": 3
   },
   "file_extension": ".py",
   "mimetype": "text/x-python",
   "name": "python",
   "nbconvert_exporter": "python",
   "pygments_lexer": "ipython3",
   "version": "3.10.12"
  }
 },
 "nbformat": 4,
 "nbformat_minor": 5
}
